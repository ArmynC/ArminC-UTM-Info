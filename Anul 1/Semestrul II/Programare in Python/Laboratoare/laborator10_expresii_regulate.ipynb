{
  "nbformat": 4,
  "nbformat_minor": 0,
  "metadata": {
    "colab": {
      "provenance": [],
      "toc_visible": true
    },
    "kernelspec": {
      "name": "python3",
      "display_name": "Python 3"
    },
    "language_info": {
      "name": "python"
    }
  },
  "cells": [
    {
      "cell_type": "markdown",
      "source": [
        "# Expresii regulate in Python"
      ],
      "metadata": {
        "id": "ZYRwR4MkwLgC"
      }
    },
    {
      "cell_type": "markdown",
      "source": [
        "O expresie regulata este o succesiune de caractere (normale sau speciale) care se constituie intr-o structura de cautare. \n",
        "\n",
        "O structura de cautare este o succesiune de caractere care poate sa \"se potriveasca\" cu mai multe siruri de caractere diferite dar care sunt asemanatoare structural\n",
        "\n",
        "\n",
        "Expresiile regulate sunt implementate in Python intr-un modul extern numit re\n",
        "\n",
        "Principalele metode sunt: \n",
        "\n",
        "------------------------------\n",
        "| metoda | Definitie |\n",
        "| -------|-----------|\n",
        "| findall | gaseste toate fragmentele de text care se potrivesc cu patternul. Returneaz o lista |\n",
        "| search | Cauta si returneaza sub forma unui obiect de tip Match prima instanta care se potriveste cu patternul | \n",
        "| split  | Separa un sir de caractere dupa o expresie regulata |\n",
        "| sub    | Inlocuieste anumite structuri identificate cu ajutorul unei expresii regulate cu alte structuri |"
      ],
      "metadata": {
        "id": "TywwLKrzvdRd"
      }
    },
    {
      "cell_type": "code",
      "source": [],
      "metadata": {
        "id": "cGHzTD_8Ixyf"
      },
      "execution_count": null,
      "outputs": []
    },
    {
      "cell_type": "code",
      "execution_count": 6,
      "metadata": {
        "colab": {
          "base_uri": "https://localhost:8080/"
        },
        "id": "lwT_ZW2lvTXv",
        "outputId": "cbe14629-c65a-48cf-b8cb-cf388896064b"
      },
      "outputs": [
        {
          "output_type": "stream",
          "name": "stdout",
          "text": [
            "<class 'list'>\n",
            "1234567890 \n"
          ]
        }
      ],
      "source": [
        "import re\n",
        "\n",
        "text = \"Numarul meu de telefon este 1234567890 si numarul cardului meu de credit este 9876543210987654.\"\n",
        "\n",
        "pattern = '\\d{10}\\s'\n",
        "\n",
        "results = re.findall(pattern, text)\n",
        "\n",
        "print(type(results))\n",
        "for match in results:\n",
        "  print(match)\n"
      ]
    },
    {
      "cell_type": "code",
      "source": [],
      "metadata": {
        "id": "LoHqmNMv0Ifv"
      },
      "execution_count": null,
      "outputs": []
    },
    {
      "cell_type": "markdown",
      "source": [],
      "metadata": {
        "id": "qoYEsj2izQIO"
      }
    },
    {
      "cell_type": "code",
      "source": [
        "textnm = 'Rick and Nick have decided to visit Dick because he is sick'\n",
        "\n",
        "pattern2 = '[A-Z]ick'\n",
        "\n",
        "results2 = re.findall(pattern2, textnm)\n",
        "\n",
        "for match in results2:\n",
        "  print(match)\n"
      ],
      "metadata": {
        "colab": {
          "base_uri": "https://localhost:8080/"
        },
        "id": "xNpQ8heizThN",
        "outputId": "130faf9c-32fc-4f68-d723-cbd56fdd09cf"
      },
      "execution_count": 9,
      "outputs": [
        {
          "output_type": "stream",
          "name": "stdout",
          "text": [
            "Rick\n",
            "Nick\n",
            "Dick\n"
          ]
        }
      ]
    },
    {
      "cell_type": "markdown",
      "source": [
        "https://www.dataquest.io/wp-content/uploads/2019/03/python-regular-expressions-cheat-sheet.pdf\n"
      ],
      "metadata": {
        "id": "WSYDrtMM0FHN"
      }
    },
    {
      "cell_type": "markdown",
      "source": [
        "## Adrese de e-mail"
      ],
      "metadata": {
        "id": "bJPdW0uN0cK-"
      }
    },
    {
      "cell_type": "code",
      "source": [
        "emailad = 'Adresele de email inregistrate sunt urmatoarle: 1234567890@numarulcelmaimare.xxx, gentle-Man@iron-self.tv și almond@caramela.tv \\\n",
        "De asemenea, sunt inregistrate si anton@big.domain.museums și carcalete@insecticid.co.jp și in final seful-cel_mai-mare@supercompanie.com'\n",
        "\n",
        "patternem = '[a-zA-Z0-9-_]+@[a-zA-Z0-9.-]+\\.[a-zA-Z]{2,6}'\n",
        "\n",
        "resultsem = re.findall(patternem, emailad)\n",
        "\n",
        "for match in resultsem:\n",
        "  print(match)\n"
      ],
      "metadata": {
        "colab": {
          "base_uri": "https://localhost:8080/"
        },
        "id": "DlXqrkTv0eVQ",
        "outputId": "21b72451-6085-437a-a269-397f715a3308"
      },
      "execution_count": 16,
      "outputs": [
        {
          "output_type": "stream",
          "name": "stdout",
          "text": [
            "1234567890@numarulcelmaimare.xxx\n",
            "gentle-Man@iron-self.tv\n",
            "almond@caramela.tv\n",
            "anton@big.domain.museum\n",
            "carcalete@insecticid.co.jp\n",
            "seful-cel_mai-mare@supercompanie.com\n"
          ]
        }
      ]
    },
    {
      "cell_type": "markdown",
      "source": [
        "## Problema 1\n",
        "\n",
        "Fiind dat textul urmator:\n",
        "\n",
        "\"Asadar, vine un podar, destul de murdar, care spune ca a fost grajdar, exprimandu-se lapidar, clar lipsit complet de abecedar, deloc gospodar, certat cu orice calendar, a carui viata e in zadar si spune ca e miliardar, ca a fost caramidar si nu grajdar si ca se considera solidar cu orice om prins de radar.\"\n",
        "\n",
        "scrieti o expresie regulata care separa toate cuvintele care se termina in \"dar\""
      ],
      "metadata": {
        "id": "krxYsj952aE8"
      }
    },
    {
      "cell_type": "code",
      "source": [
        "dartext = \"Asadar, vine un podar, destul de murdar, dar care spune ca a fost grajdar, exprimandu-se lapidar, clar lipsit complet de abecedar, \\\n",
        "deloc gospodar, certat cu orice calendar, a carui viata e in zadar si spune ca e miliardar, ca a fost caramidar si nu grajdar si ca se \\\n",
        "considera solidar cu orice om prins de radar.\"\n",
        "\n",
        "\n",
        "patterndar = '[A-z]*dar'\n",
        "\n",
        "resultsdar = re.findall(patterndar, dartext)\n",
        "\n",
        "for match in resultsdar:\n",
        "  print (match)"
      ],
      "metadata": {
        "colab": {
          "base_uri": "https://localhost:8080/"
        },
        "id": "rJMQS2mp2Zwi",
        "outputId": "f0b26ec0-fc22-4214-f69a-527d70ff6e13"
      },
      "execution_count": 19,
      "outputs": [
        {
          "output_type": "stream",
          "name": "stdout",
          "text": [
            "Asadar\n",
            "podar\n",
            "murdar\n",
            "dar\n",
            "grajdar\n",
            "lapidar\n",
            "abecedar\n",
            "gospodar\n",
            "calendar\n",
            "zadar\n",
            "miliardar\n",
            "caramidar\n",
            "grajdar\n",
            "solidar\n",
            "radar\n"
          ]
        }
      ]
    },
    {
      "cell_type": "markdown",
      "source": [
        "## Problema 2\n",
        "\n",
        "\n",
        "Scrieti o expresie regulata care sa identifice doar cnp-urile din textul urmator, fara sa separe si numarul cererii\n",
        "\n",
        "Va scriu in legatura cu cererea mea de concediu medical, cu numarul 4537. Am atasat documentele medicale necesare si va rog sa le verificati pentru aprobarea concediului.\n",
        "\n",
        "De asemenea, va trimit CNP-ul meu pentru a facilita procesul de identificare a mea in sistem: 1970502081234. Pe langa acesta, in atasament veti gasi si CNP-ul sotiei mele: 2810315082345.\n",
        "\n",
        "Va multumesc anticipat pentru ajutorul acordat si pentru intelegere."
      ],
      "metadata": {
        "id": "BWLjJ5d33yFi"
      }
    },
    {
      "cell_type": "code",
      "source": [
        "cnptext = 'Va scriu in legatura cu cererea mea de concediu medical, cu numarul 4537. Am atasat documentele medicale necesare si va rog sa le verificati pentru aprobarea concediului.\\\n",
        "De asemenea, va trimit CNP-ul meu pentru a facilita procesul de identificare a mea in sistem: 1970502081234. \\\n",
        "Pe langa acesta, in atasament veti gasi si CNP-ul sotiei mele: 2810315082345.\\\n",
        "Va multumesc anticipat pentru ajutorul acordat si pentru intelegere.'\n",
        "\n",
        "patterncnp = '\\d{13}'\n",
        "\n",
        "resultscnp = re.findall(patterncnp, cnptext)\n",
        "\n",
        "for match in resultscnp:\n",
        "  print (match)"
      ],
      "metadata": {
        "colab": {
          "base_uri": "https://localhost:8080/"
        },
        "id": "gDXIkY_64Fjt",
        "outputId": "1009c6e0-5c92-46d1-a9eb-9be011fa0ed1"
      },
      "execution_count": 27,
      "outputs": [
        {
          "output_type": "stream",
          "name": "stdout",
          "text": [
            "1970502081234\n",
            "2810315082345\n"
          ]
        }
      ]
    },
    {
      "cell_type": "markdown",
      "source": [
        "## Problema 3\n",
        "\n",
        "Scrieti o expresie regulata care izoleaza codurile pachetelor din textul urmator:\n",
        "\n",
        "Codurile pachetelor trimise sunt: rert_ioiij, ert_rert, 9kjk_gh56, h6ytr_ghjk urmate de: 456o_gghjy si hjkh_987g"
      ],
      "metadata": {
        "id": "yO3WHYnQ4hfE"
      }
    },
    {
      "cell_type": "code",
      "source": [
        "textcod = 'Codurile pachetelor trimise sunt: rert_ioiij, ert_rert, 9kjk_gh56, h6ytr_ghjk urmate de: 456o_gghjy si hjkh_987g'\n",
        "\n",
        "patterncd = '[0-9A-z]+_[A-z0-9]+'\n",
        "\n",
        "results = re.findall(patterncd,  textcod)\n",
        "\n",
        "for match in results:\n",
        "  print (match)"
      ],
      "metadata": {
        "colab": {
          "base_uri": "https://localhost:8080/"
        },
        "id": "ptkO708E47u6",
        "outputId": "3a82a1aa-fea5-48bb-f9ca-d4a5a8f94605"
      },
      "execution_count": 36,
      "outputs": [
        {
          "output_type": "stream",
          "name": "stdout",
          "text": [
            "rert_ioiij\n",
            "ert_rert\n",
            "9kjk_gh56\n",
            "h6ytr_ghjk\n",
            "456o_gghjy\n",
            "hjkh_987g\n"
          ]
        }
      ]
    },
    {
      "cell_type": "markdown",
      "source": [
        "## Problema 4\n",
        "\n",
        "Scrieti o expresie regulata care se potrveste cu adrese IPV4\n",
        "\n",
        "0.0.0.0   --   255.255.255.255\n",
        "\n",
        "89.3.123.7\n",
        "\n"
      ],
      "metadata": {
        "id": "lLjbtFDG6QKD"
      }
    },
    {
      "cell_type": "code",
      "source": [
        "textipv4 = 'ipv4 poate fi 1.1.1.1 sau 12.12.23.54 sau 98.67.231.3 sau poate 999.999.999.999'\n",
        "\n",
        "patternipv4 = '\\d{1,3}\\.\\d{1,3}\\.\\d{1,3}\\.\\d{1,3}'\n",
        "\n",
        "resultsipv4 = re.findall(patternipv4,  textipv4)\n",
        "\n",
        "for match in resultsipv4:\n",
        "  print (match)"
      ],
      "metadata": {
        "colab": {
          "base_uri": "https://localhost:8080/"
        },
        "id": "MVf8PKL69Qd_",
        "outputId": "4752f012-47de-422c-c777-da99addea48e"
      },
      "execution_count": 45,
      "outputs": [
        {
          "output_type": "stream",
          "name": "stdout",
          "text": [
            "1.1.1.1\n",
            "12.12.23.54\n",
            "98.67.231.3\n",
            "999.999.999.999\n"
          ]
        }
      ]
    },
    {
      "cell_type": "markdown",
      "source": [
        "# Requests\n",
        "\n",
        "Requests este un client HTTP pentru Python care permite interactiunea cu serverele web. "
      ],
      "metadata": {
        "id": "LA9Cntzc-sFe"
      }
    },
    {
      "cell_type": "code",
      "source": [
        "import requests\n",
        "\n",
        "gg = requests.get('https://google.com')\n",
        "\n",
        "print (type(gg))\n",
        "print (dir(gg))\n",
        "\n",
        "print(gg.status_code)\n",
        "\n",
        "if gg.status_code == 200:\n",
        "  print(gg.text)\n"
      ],
      "metadata": {
        "colab": {
          "base_uri": "https://localhost:8080/"
        },
        "id": "4NXNNHSP-22d",
        "outputId": "14c60097-c54d-4808-8710-db20230aed4e"
      },
      "execution_count": 50,
      "outputs": [
        {
          "output_type": "stream",
          "name": "stdout",
          "text": [
            "<class 'requests.models.Response'>\n",
            "['__attrs__', '__bool__', '__class__', '__delattr__', '__dict__', '__dir__', '__doc__', '__enter__', '__eq__', '__exit__', '__format__', '__ge__', '__getattribute__', '__getstate__', '__gt__', '__hash__', '__init__', '__init_subclass__', '__iter__', '__le__', '__lt__', '__module__', '__ne__', '__new__', '__nonzero__', '__reduce__', '__reduce_ex__', '__repr__', '__setattr__', '__setstate__', '__sizeof__', '__str__', '__subclasshook__', '__weakref__', '_content', '_content_consumed', '_next', 'apparent_encoding', 'close', 'connection', 'content', 'cookies', 'elapsed', 'encoding', 'headers', 'history', 'is_permanent_redirect', 'is_redirect', 'iter_content', 'iter_lines', 'json', 'links', 'next', 'ok', 'raise_for_status', 'raw', 'reason', 'request', 'status_code', 'text', 'url']\n",
            "200\n",
            "<!doctype html><html itemscope=\"\" itemtype=\"http://schema.org/WebPage\" lang=\"en\"><head><meta content=\"Search the world's information, including webpages, images, videos and more. Google has many special features to help you find exactly what you're looking for.\" name=\"description\"><meta content=\"noodp\" name=\"robots\"><meta content=\"text/html; charset=UTF-8\" http-equiv=\"Content-Type\"><meta content=\"/images/branding/googleg/1x/googleg_standard_color_128dp.png\" itemprop=\"image\"><title>Google</title><script nonce=\"3S2PEI9JQN83UD4x-7fGUg\">(function(){window.google={kEI:'VBxaZL6rMrKWwt0PnpGDyAE',kEXPI:'0,1359409,6059,206,4804,2316,383,246,5,1129120,1197783,618,316658,63431,16115,28684,22431,1361,12317,17582,4998,13226,3849,38444,2872,2891,3926,7828,606,60690,15324,432,3,346,1244,1,16916,2652,4,1527,2305,29062,13064,13659,2980,1457,16786,5806,2551,4097,7593,1,42154,2,14022,2373,342,23024,5679,1021,25047,6074,4568,6253,23424,1249,5838,14967,4333,7484,445,2,2,1,6960,3997,15675,8155,7381,2,3,15965,873,7828,1797,10008,7,1922,9779,22902,13252,6305,2007,18191,20137,14,82,7651,8863,3692,109,2412,5856,3785,4266,10937,5375,3030,6111,2459,7246,1804,7734,2738,2885,449,12026,7265,2171,8787,1330,1684,13,1445,87,103,5804,2,2141,892,1388,3630,1129,7769,249,612,1109,482,1491,66,1,678,2612,3050,165,89,119,204,139,197,1041,4,240,2862,320,3,602,468,2,299,1646,172,588,1938,24,17,168,773,197,514,418,272,342,236,220,3,3,9,524,114,2871,124,464,640,3,318,45,209,388,88,1,478,581,561,372,434,569,102,2,102,2,10,416,118,124,5202497,5928,90,213,49,134,423,7,37,35,8798207,3311,141,795,19735,1,1,346,5093,2,34,2,455,47,110,25,8,86,23944622,4042143,1964,5415,11257,2894,6250,14715,1025,3947,264,1410845,146987,23612966,84,94,133,47,290,479,57,533,604,19,68,1057,84,260,180,243,260,2,200,2,158,1415,80,88,178,187,1150,1,581,665,583,410,410,78,137,59,10,593,451,239,128,105,49,1,219,84,461,560,2003,54,789,1,77,61,240,453,261,368,1368,264,183,18,3,1308,3',kBL:'Xw_a',kOPI:89978449};google.sn='webhp';google.kHL='en';})();(function(){\n",
            "var h=this||self;function l(){return void 0!==window.google&&void 0!==window.google.kOPI&&0!==window.google.kOPI?window.google.kOPI:null};var m,n=[];function p(a){for(var b;a&&(!a.getAttribute||!(b=a.getAttribute(\"eid\")));)a=a.parentNode;return b||m}function q(a){for(var b=null;a&&(!a.getAttribute||!(b=a.getAttribute(\"leid\")));)a=a.parentNode;return b}function r(a){/^http:/i.test(a)&&\"https:\"===window.location.protocol&&(google.ml&&google.ml(Error(\"a\"),!1,{src:a,glmm:1}),a=\"\");return a}\n",
            "function t(a,b,c,d,k){var e=\"\";-1===b.search(\"&ei=\")&&(e=\"&ei=\"+p(d),-1===b.search(\"&lei=\")&&(d=q(d))&&(e+=\"&lei=\"+d));d=\"\";var g=-1===b.search(\"&cshid=\")&&\"slh\"!==a,f=[];f.push([\"zx\",Date.now().toString()]);h._cshid&&g&&f.push([\"cshid\",h._cshid]);c=c();null!=c&&f.push([\"opi\",c.toString()]);for(c=0;c<f.length;c++){if(0===c||0<c)d+=\"&\";d+=f[c][0]+\"=\"+f[c][1]}return\"/\"+(k||\"gen_204\")+\"?atyp=i&ct=\"+String(a)+\"&cad=\"+(b+e+d)};m=google.kEI;google.getEI=p;google.getLEI=q;google.ml=function(){return null};google.log=function(a,b,c,d,k,e){e=void 0===e?l:e;c||(c=t(a,b,e,d,k));if(c=r(c)){a=new Image;var g=n.length;n[g]=a;a.onerror=a.onload=a.onabort=function(){delete n[g]};a.src=c}};google.logUrl=function(a,b){b=void 0===b?l:b;return t(\"\",a,b)};}).call(this);(function(){google.y={};google.sy=[];google.x=function(a,b){if(a)var c=a.id;else{do c=Math.random();while(google.y[c])}google.y[c]=[a,b];return!1};google.sx=function(a){google.sy.push(a)};google.lm=[];google.plm=function(a){google.lm.push.apply(google.lm,a)};google.lq=[];google.load=function(a,b,c){google.lq.push([[a],b,c])};google.loadAll=function(a,b){google.lq.push([a,b])};google.bx=!1;google.lx=function(){};}).call(this);google.f={};(function(){\n",
            "document.documentElement.addEventListener(\"submit\",function(b){var a;if(a=b.target){var c=a.getAttribute(\"data-submitfalse\");a=\"1\"===c||\"q\"===c&&!a.elements.q.value?!0:!1}else a=!1;a&&(b.preventDefault(),b.stopPropagation())},!0);document.documentElement.addEventListener(\"click\",function(b){var a;a:{for(a=b.target;a&&a!==document.documentElement;a=a.parentElement)if(\"A\"===a.tagName){a=\"1\"===a.getAttribute(\"data-nohref\");break a}a=!1}a&&b.preventDefault()},!0);}).call(this);</script><style>#gbar,#guser{font-size:13px;padding-top:1px !important;}#gbar{height:22px}#guser{padding-bottom:7px !important;text-align:right}.gbh,.gbd{border-top:1px solid #c9d7f1;font-size:1px}.gbh{height:0;position:absolute;top:24px;width:100%}@media all{.gb1{height:22px;margin-right:.5em;vertical-align:top}#gbar{float:left}}a.gb1,a.gb4{text-decoration:underline !important}a.gb1,a.gb4{color:#00c !important}.gbi .gb4{color:#dd8e27 !important}.gbf .gb4{color:#900 !important}\n",
            "</style><style>body,td,a,p,.h{font-family:arial,sans-serif}body{margin:0;overflow-y:scroll}#gog{padding:3px 8px 0}td{line-height:.8em}.gac_m td{line-height:17px}form{margin-bottom:20px}.h{color:#1558d6}em{font-weight:bold;font-style:normal}.lst{height:25px;width:496px}.gsfi,.lst{font:18px arial,sans-serif}.gsfs{font:17px arial,sans-serif}.ds{display:inline-box;display:inline-block;margin:3px 0 4px;margin-left:4px}input{font-family:inherit}body{background:#fff;color:#000}a{color:#4b11a8;text-decoration:none}a:hover,a:active{text-decoration:underline}.fl a{color:#1558d6}a:visited{color:#4b11a8}.sblc{padding-top:5px}.sblc a{display:block;margin:2px 0;margin-left:13px;font-size:11px}.lsbb{background:#f8f9fa;border:solid 1px;border-color:#dadce0 #70757a #70757a #dadce0;height:30px}.lsbb{display:block}#WqQANb a{display:inline-block;margin:0 12px}.lsb{background:url(/images/nav_logo229.png) 0 -261px repeat-x;border:none;color:#000;cursor:pointer;height:30px;margin:0;outline:0;font:15px arial,sans-serif;vertical-align:top}.lsb:active{background:#dadce0}.lst:focus{outline:none}</style><script nonce=\"3S2PEI9JQN83UD4x-7fGUg\">(function(){window.google.erd={jsr:1,bv:1789,de:true};\n",
            "var h=this||self;var k,l=null!=(k=h.mei)?k:1,n,p=null!=(n=h.sdo)?n:!0,q=0,r,t=google.erd,v=t.jsr;google.ml=function(a,b,d,m,e){e=void 0===e?2:e;b&&(r=a&&a.message);if(google.dl)return google.dl(a,e,d),null;if(0>v){window.console&&console.error(a,d);if(-2===v)throw a;b=!1}else b=!a||!a.message||\"Error loading script\"===a.message||q>=l&&!m?!1:!0;if(!b)return null;q++;d=d||{};b=encodeURIComponent;var c=\"/gen_204?atyp=i&ei=\"+b(google.kEI);google.kEXPI&&(c+=\"&jexpid=\"+b(google.kEXPI));c+=\"&srcpg=\"+b(google.sn)+\"&jsr=\"+b(t.jsr)+\"&bver=\"+b(t.bv);var f=a.lineNumber;void 0!==f&&(c+=\"&line=\"+f);var g=\n",
            "a.fileName;g&&(0<g.indexOf(\"-extension:/\")&&(e=3),c+=\"&script=\"+b(g),f&&g===window.location.href&&(f=document.documentElement.outerHTML.split(\"\\n\")[f],c+=\"&cad=\"+b(f?f.substring(0,300):\"No script found.\")));c+=\"&jsel=\"+e;for(var u in d)c+=\"&\",c+=b(u),c+=\"=\",c+=b(d[u]);c=c+\"&emsg=\"+b(a.name+\": \"+a.message);c=c+\"&jsst=\"+b(a.stack||\"N/A\");12288<=c.length&&(c=c.substr(0,12288));a=c;m||google.log(0,\"\",a);return a};window.onerror=function(a,b,d,m,e){r!==a&&(a=e instanceof Error?e:Error(a),void 0===d||\"lineNumber\"in a||(a.lineNumber=d),void 0===b||\"fileName\"in a||(a.fileName=b),google.ml(a,!1,void 0,!1,\"SyntaxError\"===a.name||\"SyntaxError\"===a.message.substring(0,11)||-1!==a.message.indexOf(\"Script error\")?3:0));r=null;p&&q>=l&&(window.onerror=null)};})();</script></head><body bgcolor=\"#fff\"><script nonce=\"3S2PEI9JQN83UD4x-7fGUg\">(function(){var src='/images/nav_logo229.png';var iesg=false;document.body.onload = function(){window.n && window.n();if (document.images){new Image().src=src;}\n",
            "if (!iesg){document.f&&document.f.q.focus();document.gbqf&&document.gbqf.q.focus();}\n",
            "}\n",
            "})();</script><div id=\"mngb\"><div id=gbar><nobr><b class=gb1>Search</b> <a class=gb1 href=\"https://www.google.com/imghp?hl=en&tab=wi\">Images</a> <a class=gb1 href=\"https://maps.google.com/maps?hl=en&tab=wl\">Maps</a> <a class=gb1 href=\"https://play.google.com/?hl=en&tab=w8\">Play</a> <a class=gb1 href=\"https://www.youtube.com/?tab=w1\">YouTube</a> <a class=gb1 href=\"https://news.google.com/?tab=wn\">News</a> <a class=gb1 href=\"https://mail.google.com/mail/?tab=wm\">Gmail</a> <a class=gb1 href=\"https://drive.google.com/?tab=wo\">Drive</a> <a class=gb1 style=\"text-decoration:none\" href=\"https://www.google.com/intl/en/about/products?tab=wh\"><u>More</u> &raquo;</a></nobr></div><div id=guser width=100%><nobr><span id=gbn class=gbi></span><span id=gbf class=gbf></span><span id=gbe></span><a href=\"http://www.google.com/history/optout?hl=en\" class=gb4>Web History</a> | <a  href=\"/preferences?hl=en\" class=gb4>Settings</a> | <a target=_top id=gb_70 href=\"https://accounts.google.com/ServiceLogin?hl=en&passive=true&continue=https://www.google.com/&ec=GAZAAQ\" class=gb4>Sign in</a></nobr></div><div class=gbh style=left:0></div><div class=gbh style=right:0></div></div><center><br clear=\"all\" id=\"lgpd\"><div id=\"lga\"><img alt=\"Google\" height=\"92\" src=\"/images/branding/googlelogo/1x/googlelogo_white_background_color_272x92dp.png\" style=\"padding:28px 0 14px\" width=\"272\" id=\"hplogo\"><br><br></div><form action=\"/search\" name=\"f\"><table cellpadding=\"0\" cellspacing=\"0\"><tr valign=\"top\"><td width=\"25%\">&nbsp;</td><td align=\"center\" nowrap=\"\"><input name=\"ie\" value=\"ISO-8859-1\" type=\"hidden\"><input value=\"en\" name=\"hl\" type=\"hidden\"><input name=\"source\" type=\"hidden\" value=\"hp\"><input name=\"biw\" type=\"hidden\"><input name=\"bih\" type=\"hidden\"><div class=\"ds\" style=\"height:32px;margin:4px 0\"><input class=\"lst\" style=\"margin:0;padding:5px 8px 0 6px;vertical-align:top;color:#000\" autocomplete=\"off\" value=\"\" title=\"Google Search\" maxlength=\"2048\" name=\"q\" size=\"57\"></div><br style=\"line-height:0\"><span class=\"ds\"><span class=\"lsbb\"><input class=\"lsb\" value=\"Google Search\" name=\"btnG\" type=\"submit\"></span></span><span class=\"ds\"><span class=\"lsbb\"><input class=\"lsb\" id=\"tsuid_1\" value=\"I'm Feeling Lucky\" name=\"btnI\" type=\"submit\"><script nonce=\"3S2PEI9JQN83UD4x-7fGUg\">(function(){var id='tsuid_1';document.getElementById(id).onclick = function(){if (this.form.q.value){this.checked = 1;if (this.form.iflsig)this.form.iflsig.disabled = false;}\n",
            "else top.location='/doodles/';};})();</script><input value=\"AOEireoAAAAAZFoqZFyMi0RY-3Ckrx9dZkEmIB13lUYP\" name=\"iflsig\" type=\"hidden\"></span></span></td><td class=\"fl sblc\" align=\"left\" nowrap=\"\" width=\"25%\"><a href=\"/advanced_search?hl=en&amp;authuser=0\">Advanced search</a></td></tr></table><input id=\"gbv\" name=\"gbv\" type=\"hidden\" value=\"1\"><script nonce=\"3S2PEI9JQN83UD4x-7fGUg\">(function(){var a,b=\"1\";if(document&&document.getElementById)if(\"undefined\"!=typeof XMLHttpRequest)b=\"2\";else if(\"undefined\"!=typeof ActiveXObject){var c,d,e=[\"MSXML2.XMLHTTP.6.0\",\"MSXML2.XMLHTTP.3.0\",\"MSXML2.XMLHTTP\",\"Microsoft.XMLHTTP\"];for(c=0;d=e[c++];)try{new ActiveXObject(d),b=\"2\"}catch(h){}}a=b;if(\"2\"==a&&-1==location.search.indexOf(\"&gbv=2\")){var f=google.gbvu,g=document.getElementById(\"gbv\");g&&(g.value=a);f&&window.setTimeout(function(){location.href=f},0)};}).call(this);</script></form><div id=\"gac_scont\"></div><div style=\"font-size:83%;min-height:3.5em\"><br><div id=\"prm\"><style>.szppmdbYutt__middle-slot-promo{font-size:small;margin-bottom:32px}.szppmdbYutt__middle-slot-promo a.ZIeIlb{display:inline-block;text-decoration:none}.szppmdbYutt__middle-slot-promo img{border:none;margin-right:5px;vertical-align:middle}</style><div class=\"szppmdbYutt__middle-slot-promo\" data-ved=\"0ahUKEwi-pbXW_-f-AhUyi7AFHZ7IABkQnIcBCAQ\"><span>On Fentanyl Awareness Day, </span><a class=\"NKcBbd\" href=\"https://www.google.com/url?q=https://recovertogether.withgoogle.com/overdose-awareness/%3Futm_source%3Dgoogle%26utm_medium%3Dhpp%26utm_campaign%3D5-9-hpp&amp;source=hpp&amp;id=19035285&amp;ct=3&amp;usg=AOvVaw3sSBUh7wGtsjeUHUoYAjv0&amp;sa=X&amp;ved=0ahUKEwi-pbXW_-f-AhUyi7AFHZ7IABkQ8IcBCAU\" rel=\"nofollow\">learn about the hidden dangers and how to help save lives</a></div></div></div><span id=\"footer\"><div style=\"font-size:10pt\"><div style=\"margin:19px auto;text-align:center\" id=\"WqQANb\"><a href=\"/intl/en/ads/\">Advertising</a><a href=\"/services/\">Business Solutions</a><a href=\"/intl/en/about.html\">About Google</a></div></div><p style=\"font-size:8pt;color:#70757a\">&copy; 2023 - <a href=\"/intl/en/policies/privacy/\">Privacy</a> - <a href=\"/intl/en/policies/terms/\">Terms</a></p></span></center><script nonce=\"3S2PEI9JQN83UD4x-7fGUg\">(function(){window.google.cdo={height:757,width:1440};(function(){var a=window.innerWidth,b=window.innerHeight;if(!a||!b){var c=window.document,d=\"CSS1Compat\"==c.compatMode?c.documentElement:c.body;a=d.clientWidth;b=d.clientHeight}\n",
            "if(a&&b&&(a!=google.cdo.width||b!=google.cdo.height)){var e=google,f=e.log,g=\"/client_204?&atyp=i&biw=\"+a+\"&bih=\"+b+\"&ei=\"+google.kEI,h=\"\",k=[],l=void 0!==window.google&&void 0!==window.google.kOPI&&0!==window.google.kOPI?window.google.kOPI:null;null!=l&&k.push([\"opi\",l.toString()]);for(var m=0;m<k.length;m++){if(0===m||0<m)h+=\"&\";h+=k[m][0]+\"=\"+k[m][1]}f.call(e,\"\",\"\",g+h)};}).call(this);})();</script> <script nonce=\"3S2PEI9JQN83UD4x-7fGUg\">(function(){google.xjs={ck:'xjs.hp.vUsZk7fd8do.L.X.O',cs:'ACT90oHvNKf0VndSCQCbyvBm-VFWBpF2tQ',excm:[]};})();</script>  <script nonce=\"3S2PEI9JQN83UD4x-7fGUg\">(function(){var u='/xjs/_/js/k\\x3dxjs.hp.en.CULboG5sOro.O/am\\x3dAAAA6AQAUABgAQ/d\\x3d1/ed\\x3d1/rs\\x3dACT90oFZxVOwITafXDZCzqnHTQ0_Y7i2BA/m\\x3dsb_he,d';var amd=0;\n",
            "var e=this||self,f=function(c){return c};var g;var k=function(c){this.g=c};k.prototype.toString=function(){return this.g+\"\"};var m={};\n",
            "function q(){var c=u,n=function(){};google.lx=google.stvsc?n:function(){google.timers&&google.timers.load&&google.tick&&google.tick(\"load\",\"xjsls\");var a=document;var b=\"SCRIPT\";\"application/xhtml+xml\"===a.contentType&&(b=b.toLowerCase());b=a.createElement(b);a=null===c?\"null\":void 0===c?\"undefined\":c;if(void 0===g){var d=null;var l=e.trustedTypes;if(l&&l.createPolicy){try{d=l.createPolicy(\"goog#html\",{createHTML:f,createScript:f,createScriptURL:f})}catch(r){e.console&&e.console.error(r.message)}g=\n",
            "d}else g=d}a=(d=g)?d.createScriptURL(a):a;a=new k(a,m);b.src=a instanceof k&&a.constructor===k?a.g:\"type_error:TrustedResourceUrl\";var h,p;(h=(a=null==(p=(h=(b.ownerDocument&&b.ownerDocument.defaultView||window).document).querySelector)?void 0:p.call(h,\"script[nonce]\"))?a.nonce||a.getAttribute(\"nonce\")||\"\":\"\")&&b.setAttribute(\"nonce\",h);document.body.appendChild(b);google.psa=!0;google.lx=n};google.bx||google.lx()};google.xjsu=u;e._F_jsUrl=u;setTimeout(function(){0<amd?google.caft(function(){return q()},amd):q()},0);})();window._ = window._ || {};window._DumpException = _._DumpException = function(e){throw e;};window._s = window._s || {};_s._DumpException = _._DumpException;window._qs = window._qs || {};_qs._DumpException = _._DumpException;function _F_installCss(c){}\n",
            "(function(){google.jl={blt:'none',chnk:0,dw:false,dwu:true,emtn:0,end:0,ico:false,ikb:0,ine:false,injs:'none',injt:0,injth:0,injv2:false,lls:'default',pdt:0,rep:0,snet:true,strt:0,ubm:false,uwp:true};})();(function(){var pmc='{\\x22d\\x22:{},\\x22sb_he\\x22:{\\x22agen\\x22:true,\\x22cgen\\x22:true,\\x22client\\x22:\\x22heirloom-hp\\x22,\\x22dh\\x22:true,\\x22ds\\x22:\\x22\\x22,\\x22fl\\x22:true,\\x22host\\x22:\\x22google.com\\x22,\\x22jsonp\\x22:true,\\x22msgs\\x22:{\\x22cibl\\x22:\\x22Clear Search\\x22,\\x22dym\\x22:\\x22Did you mean:\\x22,\\x22lcky\\x22:\\x22I\\\\u0026#39;m Feeling Lucky\\x22,\\x22lml\\x22:\\x22Learn more\\x22,\\x22psrc\\x22:\\x22This search was removed from your \\\\u003Ca href\\x3d\\\\\\x22/history\\\\\\x22\\\\u003EWeb History\\\\u003C/a\\\\u003E\\x22,\\x22psrl\\x22:\\x22Remove\\x22,\\x22sbit\\x22:\\x22Search by image\\x22,\\x22srch\\x22:\\x22Google Search\\x22},\\x22ovr\\x22:{},\\x22pq\\x22:\\x22\\x22,\\x22rfs\\x22:[],\\x22sbas\\x22:\\x220 3px 8px 0 rgba(0,0,0,0.2),0 0 0 1px rgba(0,0,0,0.08)\\x22,\\x22stok\\x22:\\x22RQF9F1UKUzcdta5zCK9hgU9ohqY\\x22}}';google.pmc=JSON.parse(pmc);})();</script>       </body></html>\n"
          ]
        }
      ]
    },
    {
      "cell_type": "markdown",
      "source": [
        "Request este utilizat in special pentru accesarea API-urilor cu care se poate interactiona prin protocolul HTTP. O lista de API-uri publice se gaseste la urmatoarea adresa: \n",
        "\n",
        "https://github.com/public-apis/public-apis\n"
      ],
      "metadata": {
        "id": "_lao16SqAEQf"
      }
    },
    {
      "cell_type": "code",
      "source": [
        "r = requests.get('https://corporatebs-generator.sameerkumar.website/')\n",
        "if (r.status_code == 200):\n",
        "  print(r.json())"
      ],
      "metadata": {
        "colab": {
          "base_uri": "https://localhost:8080/"
        },
        "id": "SFoIvT1mAK6y",
        "outputId": "d7c09441-e750-4613-a6c6-25c096df2c78"
      },
      "execution_count": 54,
      "outputs": [
        {
          "output_type": "stream",
          "name": "stdout",
          "text": [
            "{'phrase': 'Quickly Scale Robust Innovation'}\n"
          ]
        }
      ]
    },
    {
      "cell_type": "markdown",
      "source": [
        "Jokeapi - un serviciu de tip API care ofera la fiecare apelare cate o gluma"
      ],
      "metadata": {
        "id": "8sdoyYUSAtmA"
      }
    },
    {
      "cell_type": "code",
      "source": [
        "r = requests.get('https://v2.jokeapi.dev/joke/Any?safe_mode')\n",
        "\n",
        "mydata = r.json()\n",
        "\n",
        "\n",
        "print(mydata['category'])\n",
        "\n",
        "if mydata['type'] == 'single':\n",
        "  print(mydata['joke'])\n",
        "elif mydata['type'] == 'twopart':\n",
        "  print(mydata['setup'])\n",
        "  print(mydata['delivery'])\n",
        "\n",
        "flags = []\n",
        "\n",
        "for key in mydata['flags']:\n",
        "  if mydata['flags'][key] == True:\n",
        "    flags.append(key)\n",
        "\n",
        "if len(flags) > 0:\n",
        "  print('Flags: ' + ', '.join(flags))\n",
        "else:\n",
        "  print('No flags')\n",
        "\n"
      ],
      "metadata": {
        "colab": {
          "base_uri": "https://localhost:8080/"
        },
        "id": "0wvC-jnbA09g",
        "outputId": "35e910e1-cf3e-4309-9b16-96cf91dbf9d7"
      },
      "execution_count": 65,
      "outputs": [
        {
          "output_type": "stream",
          "name": "stdout",
          "text": [
            "Pun\n",
            "What kind of car did Whitney Houston drive?\n",
            "A Hyundaiiiiiiiiiiii\n",
            "No flags\n"
          ]
        }
      ]
    },
    {
      "cell_type": "markdown",
      "source": [
        "## Problema 5\n",
        "\n",
        "Scrieti o expresie regulata care extrage toate adresele ipv4 din urmatorul fragment de log, care se gaseste la adresa https://pastebin.com/raw/ZEFADn6k\n",
        "\n",
        "Puneti aceste adrese intr-o lista unica"
      ],
      "metadata": {
        "id": "ckUcCr2qDN09"
      }
    },
    {
      "cell_type": "code",
      "source": [
        "rq = requests.get('https://pastebin.com/raw/ZEFADn6k')\n",
        "if rq.status_code == 200:\n",
        "  textlog = rq.text\n",
        "  print(textlog)\n",
        "\n",
        "  patternipv4 = '\\d{1,3}\\.\\d{1,3}\\.\\d{1,3}\\.\\d{1,3}'\n",
        "  resultsipv4 = re.findall(patternipv4,  textlog)\n",
        "\n",
        "  ips = set()\n",
        "\n",
        "  for match in resultsipv4:\n",
        "    ips.add(match)\n",
        "\n",
        "print(ips)\n"
      ],
      "metadata": {
        "colab": {
          "base_uri": "https://localhost:8080/"
        },
        "id": "d0ap0DTsF4Et",
        "outputId": "d1c201bb-e50c-44ca-8fa2-0bc9776f7bb6"
      },
      "execution_count": 68,
      "outputs": [
        {
          "output_type": "stream",
          "name": "stdout",
          "text": [
            "May  8 23:01:17 isp postfix/qmgr[15768]: DA6F36742E82: removed\r\n",
            "May  8 23:01:22 isp postfix/smtpd[24660]: connect from unknown[193.32.162.188]\r\n",
            "May  8 23:01:22 isp dovecot: auth: Warning: auth client 0 disconnected with 1 pending requests: Connection reset by peer\r\n",
            "May  8 23:01:24 isp postfix/smtpd[28657]: connect from unknown[185.254.37.189]\r\n",
            "May  8 23:01:26 isp postfix/smtpd[28657]: warning: unknown[185.254.37.189]: SASL LOGIN authentication failed: UGFzc3dvcmQ6\r\n",
            "May  8 23:01:26 isp postfix/smtpd[28657]: lost connection after AUTH from unknown[185.254.37.189]\r\n",
            "May  8 23:01:26 isp postfix/smtpd[28657]: disconnect from unknown[185.254.37.189]\r\n",
            "May  8 23:01:30 isp postfix/smtpd[24660]: lost connection after AUTH from unknown[193.32.162.188]\r\n",
            "May  8 23:01:30 isp postfix/smtpd[24660]: disconnect from unknown[193.32.162.188]\r\n",
            "May  8 23:01:33 isp postfix/smtpd[28657]: connect from unknown[185.254.37.189]\r\n",
            "May  8 23:01:36 isp postfix/smtpd[7789]: connect from unknown[118.41.204.67]\r\n",
            "May  8 23:01:37 isp postfix/smtpd[24660]: connect from unknown[193.32.162.188]\r\n",
            "May  8 23:01:39 isp postfix/smtpd[24660]: warning: unknown[193.32.162.188]: SASL LOGIN authentication failed: UGFzc3dvcmQ6\r\n",
            "May  8 23:01:39 isp postfix/smtpd[28657]: warning: unknown[185.254.37.189]: SASL LOGIN authentication failed: UGFzc3dvcmQ6\r\n",
            "May  8 23:01:39 isp postfix/smtpd[28657]: lost connection after AUTH from unknown[185.254.37.189]\r\n",
            "May  8 23:01:39 isp postfix/smtpd[28657]: disconnect from unknown[185.254.37.189]\r\n",
            "May  8 23:01:39 isp postfix/smtpd[24660]: lost connection after AUTH from unknown[193.32.162.188]\r\n",
            "May  8 23:01:39 isp postfix/smtpd[24660]: disconnect from unknown[193.32.162.188]\r\n",
            "May  8 23:01:39 isp dovecot: auth: Warning: auth client 0 disconnected with 1 pending requests: EOF\r\n",
            "May  8 23:01:44 isp postfix/smtpd[7789]: warning: unknown[118.41.204.67]: SASL LOGIN authentication failed: UGFzc3dvcmQ6\r\n",
            "May  8 23:01:45 isp postfix/smtpd[7789]: lost connection after AUTH from unknown[118.41.204.67]\r\n",
            "May  8 23:01:45 isp postfix/smtpd[7789]: disconnect from unknown[118.41.204.67]\r\n",
            "May  8 23:01:47 isp postfix/smtpd[28657]: connect from unknown[185.254.37.189]\r\n",
            "May  8 23:01:49 isp postfix/smtpd[7789]: connect from cpe-75-80-101-22.san.res.rr.com[75.80.101.22]\r\n",
            "May  8 23:01:50 isp postfix/smtpd[7890]: connect from unknown[193.32.162.188]\r\n",
            "May  8 23:01:56 isp postfix/smtpd[7789]: warning: cpe-75-80-101-22.san.res.rr.com[75.80.101.22]: SASL LOGIN authentication failed: UGFzc3dvcmQ6\r\n",
            "May  8 23:01:56 isp postfix/smtpd[7890]: warning: unknown[193.32.162.188]: SASL LOGIN authentication failed: UGFzc3dvcmQ6\r\n",
            "May  8 23:01:56 isp postfix/smtpd[7890]: lost connection after AUTH from unknown[193.32.162.188]\r\n",
            "May  8 23:01:56 isp postfix/smtpd[7890]: disconnect from unknown[193.32.162.188]\r\n",
            "May  8 23:01:57 isp postfix/smtpd[7789]: lost connection after AUTH from cpe-75-80-101-22.san.res.rr.com[75.80.101.22]\r\n",
            "May  8 23:01:57 isp postfix/smtpd[7789]: disconnect from cpe-75-80-101-22.san.res.rr.com[75.80.101.22]\r\n",
            "May  8 23:01:57 isp postfix/smtpd[28657]: warning: unknown[185.254.37.189]: SASL LOGIN authentication failed: UGFzc3dvcmQ6\r\n",
            "May  8 23:01:57 isp postfix/smtpd[28657]: lost connection after AUTH from unknown[185.254.37.189]\r\n",
            "May  8 23:01:57 isp postfix/smtpd[28657]: disconnect from unknown[185.254.37.189]\r\n",
            "May  8 23:02:05 isp postfix/smtpd[7890]: connect from unknown[185.254.37.189]\n",
            "{'185.254.37.189', '75.80.101.22', '193.32.162.188', '118.41.204.67'}\n"
          ]
        }
      ]
    },
    {
      "cell_type": "code",
      "source": [
        "wtf= 'UGFzc3dvcmQ6'\n",
        "\n",
        "import base64\n",
        "\n",
        "print(base64.b64decode(wtf))"
      ],
      "metadata": {
        "colab": {
          "base_uri": "https://localhost:8080/"
        },
        "id": "SjDnFA53H-ue",
        "outputId": "8b8a024f-a753-4848-f9de-b5d185e213ef"
      },
      "execution_count": 69,
      "outputs": [
        {
          "output_type": "stream",
          "name": "stdout",
          "text": [
            "b'Password:'\n"
          ]
        }
      ]
    }
  ]
}